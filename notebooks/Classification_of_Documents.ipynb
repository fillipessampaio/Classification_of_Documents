{
 "cells": [
  {
   "cell_type": "markdown",
   "metadata": {},
   "source": [
    "# CLASSIFICATION OF DOCUMENTOS"
   ]
  },
  {
   "cell_type": "markdown",
   "metadata": {},
   "source": [
    "## 1. BUSINESS UNDERSTANDING\n",
    "\n",
    "### 1.1. Business objectives\n",
    "Avoid misclassifications in stored legal documents.\n",
    "\n",
    "### 1.2. Assess situation\n",
    "A public manager needs to ensure that all documents stored by employees are correctly classified to avoid future problems with the collection. Dealing with the difficulty of checking each document, there is a need for a tool to indicate possible misclassifications. For this, a sample of the collection of documents was given with their due classifications.\n",
    "\n",
    "### 1.3. Project goals\n",
    "This project intends to build a document classifier model with Natural Language Processing using machine learning algorithms."
   ]
  },
  {
   "cell_type": "markdown",
   "metadata": {},
   "source": [
    "## 2. DATA UNDERSTANDING"
   ]
  },
  {
   "cell_type": "markdown",
   "metadata": {},
   "source": [
    "### 2.1. Import libraries"
   ]
  },
  {
   "cell_type": "code",
   "execution_count": 1,
   "metadata": {},
   "outputs": [],
   "source": [
    "import pandas as pd\n",
    "import numpy as np\n",
    "import matplotlib.pyplot as plt\n",
    "import seaborn as sns\n",
    "from sklearn.feature_extraction.text import TfidfVectorizer\n",
    "from nltk.corpus import stopwords\n",
    "from sklearn.model_selection import train_test_split\n",
    "from sklearn.neighbors import KNeighborsClassifier\n",
    "from sklearn.metrics import accuracy_score, confusion_matrix, classification_report, precision_score, recall_score\n",
    "from sklearn.linear_model import LogisticRegression\n",
    "from sklearn.tree import DecisionTreeClassifier\n",
    "from sklearn.ensemble import RandomForestClassifier\n",
    "from sklearn.svm import SVC\n",
    "from sklearn.model_selection import GridSearchCV\n",
    "from sklearn.ensemble import GradientBoostingClassifier\n",
    "import xgboost as xgb"
   ]
  },
  {
   "cell_type": "markdown",
   "metadata": {},
   "source": [
    "### 2.2. Data loading"
   ]
  },
  {
   "cell_type": "code",
   "execution_count": 2,
   "metadata": {},
   "outputs": [
    {
     "data": {
      "text/html": [
       "<div>\n",
       "<style scoped>\n",
       "    .dataframe tbody tr th:only-of-type {\n",
       "        vertical-align: middle;\n",
       "    }\n",
       "\n",
       "    .dataframe tbody tr th {\n",
       "        vertical-align: top;\n",
       "    }\n",
       "\n",
       "    .dataframe thead th {\n",
       "        text-align: right;\n",
       "    }\n",
       "</style>\n",
       "<table border=\"1\" class=\"dataframe\">\n",
       "  <thead>\n",
       "    <tr style=\"text-align: right;\">\n",
       "      <th></th>\n",
       "      <th>ids</th>\n",
       "      <th>data_disponibilizacao</th>\n",
       "      <th>orgao_julgador</th>\n",
       "      <th>numero_processo</th>\n",
       "      <th>nome_classe</th>\n",
       "      <th>codigo_classe</th>\n",
       "      <th>texto</th>\n",
       "    </tr>\n",
       "  </thead>\n",
       "  <tbody>\n",
       "    <tr>\n",
       "      <th>0</th>\n",
       "      <td>6417056</td>\n",
       "      <td>2021-06-29</td>\n",
       "      <td>9ª Vara Cível de São Luís</td>\n",
       "      <td>8227435120198100001</td>\n",
       "      <td>CUMPRIMENTO DE SENTENçA</td>\n",
       "      <td>156</td>\n",
       "      <td>Juízo de Direito da 9ª Vara Cível do Termo de ...</td>\n",
       "    </tr>\n",
       "    <tr>\n",
       "      <th>1</th>\n",
       "      <td>6428799</td>\n",
       "      <td>2021-06-29</td>\n",
       "      <td>9ª Vara Cível de São Luís</td>\n",
       "      <td>8213529020218100001</td>\n",
       "      <td>CUMPRIMENTO PROVISóRIO DE SENTENçA</td>\n",
       "      <td>157</td>\n",
       "      <td>Juízo de Direito da 9ª Vara Cível deo Termo de...</td>\n",
       "    </tr>\n",
       "    <tr>\n",
       "      <th>2</th>\n",
       "      <td>6429036</td>\n",
       "      <td>2021-06-29</td>\n",
       "      <td>9ª Vara Cível de São Luís</td>\n",
       "      <td>8335414220178100001</td>\n",
       "      <td>PROCEDIMENTO COMUM CíVEL</td>\n",
       "      <td>7</td>\n",
       "      <td>Juízo de Direito da 9ª Vara Cível deo Termo de...</td>\n",
       "    </tr>\n",
       "    <tr>\n",
       "      <th>3</th>\n",
       "      <td>6429037</td>\n",
       "      <td>2021-06-29</td>\n",
       "      <td>9ª Vara Cível de São Luís</td>\n",
       "      <td>8335414220178100001</td>\n",
       "      <td>PROCEDIMENTO COMUM CíVEL</td>\n",
       "      <td>7</td>\n",
       "      <td>Juízo de Direito da 9ª Vara Cível do Termo de ...</td>\n",
       "    </tr>\n",
       "    <tr>\n",
       "      <th>4</th>\n",
       "      <td>6286799</td>\n",
       "      <td>2021-06-25</td>\n",
       "      <td>9ª Vara Cível de São Luís</td>\n",
       "      <td>8490216020178100001</td>\n",
       "      <td>PROCEDIMENTO COMUM CíVEL</td>\n",
       "      <td>7</td>\n",
       "      <td>Juízo de Direito da 9ª Vara Cível do Termo de ...</td>\n",
       "    </tr>\n",
       "    <tr>\n",
       "      <th>...</th>\n",
       "      <td>...</td>\n",
       "      <td>...</td>\n",
       "      <td>...</td>\n",
       "      <td>...</td>\n",
       "      <td>...</td>\n",
       "      <td>...</td>\n",
       "      <td>...</td>\n",
       "    </tr>\n",
       "    <tr>\n",
       "      <th>896</th>\n",
       "      <td>59076</td>\n",
       "      <td>2021-01-13</td>\n",
       "      <td>9ª Vara Cível de São Luís</td>\n",
       "      <td>8246644520198100001</td>\n",
       "      <td>EMBARGOS à EXECUçãO</td>\n",
       "      <td>172</td>\n",
       "      <td>Juízo de Direito da 9ª Vara Cível deo Termo de...</td>\n",
       "    </tr>\n",
       "    <tr>\n",
       "      <th>897</th>\n",
       "      <td>49055</td>\n",
       "      <td>2021-01-12</td>\n",
       "      <td>9ª Vara Cível de São Luís</td>\n",
       "      <td>8266535720178100001</td>\n",
       "      <td>PROCEDIMENTO COMUM CíVEL</td>\n",
       "      <td>7</td>\n",
       "      <td>Juízo de Direito da 9ª Vara Cível deo Termo de...</td>\n",
       "    </tr>\n",
       "    <tr>\n",
       "      <th>898</th>\n",
       "      <td>49253</td>\n",
       "      <td>2021-01-12</td>\n",
       "      <td>9ª Vara Cível de São Luís</td>\n",
       "      <td>8330442320208100001</td>\n",
       "      <td>BUSCA E APREENSãO EM ALIENAçãO FIDUCIáRIA</td>\n",
       "      <td>81</td>\n",
       "      <td>Juízo de Direito da 9ª Vara Cível deo Termo de...</td>\n",
       "    </tr>\n",
       "    <tr>\n",
       "      <th>899</th>\n",
       "      <td>49266</td>\n",
       "      <td>2021-01-12</td>\n",
       "      <td>9ª Vara Cível de São Luís</td>\n",
       "      <td>8266708820208100001</td>\n",
       "      <td>BUSCA E APREENSãO EM ALIENAçãO FIDUCIáRIA</td>\n",
       "      <td>81</td>\n",
       "      <td>Juízo de Direito da 9ª Vara Cível deo Termo de...</td>\n",
       "    </tr>\n",
       "    <tr>\n",
       "      <th>900</th>\n",
       "      <td>49267</td>\n",
       "      <td>2021-01-12</td>\n",
       "      <td>9ª Vara Cível de São Luís</td>\n",
       "      <td>8266708820208100001</td>\n",
       "      <td>BUSCA E APREENSãO EM ALIENAçãO FIDUCIáRIA</td>\n",
       "      <td>81</td>\n",
       "      <td>Juízo de Direito da 9ª Vara Cível deo Termo de...</td>\n",
       "    </tr>\n",
       "  </tbody>\n",
       "</table>\n",
       "<p>901 rows × 7 columns</p>\n",
       "</div>"
      ],
      "text/plain": [
       "         ids data_disponibilizacao             orgao_julgador  \\\n",
       "0    6417056            2021-06-29  9ª Vara Cível de São Luís   \n",
       "1    6428799            2021-06-29  9ª Vara Cível de São Luís   \n",
       "2    6429036            2021-06-29  9ª Vara Cível de São Luís   \n",
       "3    6429037            2021-06-29  9ª Vara Cível de São Luís   \n",
       "4    6286799            2021-06-25  9ª Vara Cível de São Luís   \n",
       "..       ...                   ...                        ...   \n",
       "896    59076            2021-01-13  9ª Vara Cível de São Luís   \n",
       "897    49055            2021-01-12  9ª Vara Cível de São Luís   \n",
       "898    49253            2021-01-12  9ª Vara Cível de São Luís   \n",
       "899    49266            2021-01-12  9ª Vara Cível de São Luís   \n",
       "900    49267            2021-01-12  9ª Vara Cível de São Luís   \n",
       "\n",
       "         numero_processo                                nome_classe  \\\n",
       "0    8227435120198100001                    CUMPRIMENTO DE SENTENçA   \n",
       "1    8213529020218100001         CUMPRIMENTO PROVISóRIO DE SENTENçA   \n",
       "2    8335414220178100001                   PROCEDIMENTO COMUM CíVEL   \n",
       "3    8335414220178100001                   PROCEDIMENTO COMUM CíVEL   \n",
       "4    8490216020178100001                   PROCEDIMENTO COMUM CíVEL   \n",
       "..                   ...                                        ...   \n",
       "896  8246644520198100001                        EMBARGOS à EXECUçãO   \n",
       "897  8266535720178100001                   PROCEDIMENTO COMUM CíVEL   \n",
       "898  8330442320208100001  BUSCA E APREENSãO EM ALIENAçãO FIDUCIáRIA   \n",
       "899  8266708820208100001  BUSCA E APREENSãO EM ALIENAçãO FIDUCIáRIA   \n",
       "900  8266708820208100001  BUSCA E APREENSãO EM ALIENAçãO FIDUCIáRIA   \n",
       "\n",
       "     codigo_classe                                              texto  \n",
       "0              156  Juízo de Direito da 9ª Vara Cível do Termo de ...  \n",
       "1              157  Juízo de Direito da 9ª Vara Cível deo Termo de...  \n",
       "2                7  Juízo de Direito da 9ª Vara Cível deo Termo de...  \n",
       "3                7  Juízo de Direito da 9ª Vara Cível do Termo de ...  \n",
       "4                7  Juízo de Direito da 9ª Vara Cível do Termo de ...  \n",
       "..             ...                                                ...  \n",
       "896            172  Juízo de Direito da 9ª Vara Cível deo Termo de...  \n",
       "897              7  Juízo de Direito da 9ª Vara Cível deo Termo de...  \n",
       "898             81  Juízo de Direito da 9ª Vara Cível deo Termo de...  \n",
       "899             81  Juízo de Direito da 9ª Vara Cível deo Termo de...  \n",
       "900             81  Juízo de Direito da 9ª Vara Cível deo Termo de...  \n",
       "\n",
       "[901 rows x 7 columns]"
      ]
     },
     "execution_count": 2,
     "metadata": {},
     "output_type": "execute_result"
    }
   ],
   "source": [
    "df_raw = pd.read_csv('../data/dataset_despachos_9vc.csv')\n",
    "df_raw"
   ]
  },
  {
   "cell_type": "code",
   "execution_count": 3,
   "metadata": {},
   "outputs": [
    {
     "data": {
      "text/plain": [
       "nome_classe\n",
       "AçãO DE EXIGIR CONTAS                                       1\n",
       "BUSCA E APREENSãO                                           1\n",
       "BUSCA E APREENSãO EM ALIENAçãO FIDUCIáRIA                  84\n",
       "CARTA PRECATóRIA CíVEL                                      2\n",
       "CAUTELAR INOMINADA                                          4\n",
       "CONSIGNAçãO EM PAGAMENTO                                    6\n",
       "CUMPRIMENTO DE SENTENçA                                   195\n",
       "CUMPRIMENTO PROVISóRIO DE DECISãO                           1\n",
       "CUMPRIMENTO PROVISóRIO DE SENTENçA                          5\n",
       "DESPEJO                                                     1\n",
       "DESPEJO POR FALTA DE PAGAMENTO                              2\n",
       "DESPEJO POR FALTA DE PAGAMENTO CUMULADO COM COBRANçA        4\n",
       "EMBARGOS DE TERCEIRO CíVEL                                  4\n",
       "EMBARGOS à EXECUçãO                                         7\n",
       "EXECUçãO DE TíTULO EXTRAJUDICIAL                           72\n",
       "INCIDENTE DE DESCONSIDERAçãO DE PERSONALIDADE JURíDICA      1\n",
       "LIQUIDAçãO DE SENTENçA PELO PROCEDIMENTO COMUM              3\n",
       "LIQUIDAçãO POR ARBITRAMENTO                                 2\n",
       "MANDADO DE SEGURANçA CíVEL                                  6\n",
       "MONITóRIA                                                  76\n",
       "NOTIFICAçãO                                                 1\n",
       "OUTRAS MEDIDAS PROVISIONAIS                                 2\n",
       "OUTROS PROCEDIMENTOS DE JURISDIçãO VOLUNTáRIA               1\n",
       "PETIçãO CíVEL                                               1\n",
       "PROCEDIMENTO COMUM CíVEL                                  404\n",
       "PROCEDIMENTO SUMáRIO                                        1\n",
       "REINTEGRAçãO / MANUTENçãO DE POSSE                          4\n",
       "RESTAURAçãO DE AUTOS                                        2\n",
       "TUTELA ANTECIPADA ANTECEDENTE                               7\n",
       "TUTELA CAUTELAR ANTECEDENTE                                 1\n",
       "dtype: int64"
      ]
     },
     "execution_count": 3,
     "metadata": {},
     "output_type": "execute_result"
    }
   ],
   "source": [
    "# Viewing the classes\n",
    "df_raw.groupby('nome_classe').size()"
   ]
  },
  {
   "cell_type": "markdown",
   "metadata": {},
   "source": [
    "## 3. DATA PREPARATION"
   ]
  },
  {
   "cell_type": "markdown",
   "metadata": {},
   "source": [
    "### 3.1. Select data"
   ]
  },
  {
   "cell_type": "code",
   "execution_count": 4,
   "metadata": {},
   "outputs": [
    {
     "data": {
      "text/plain": [
       "nome_classe\n",
       "BUSCA E APREENSãO EM ALIENAçãO FIDUCIáRIA     84\n",
       "CUMPRIMENTO DE SENTENçA                      195\n",
       "EXECUçãO DE TíTULO EXTRAJUDICIAL              72\n",
       "MONITóRIA                                     76\n",
       "PROCEDIMENTO COMUM CíVEL                     404\n",
       "dtype: int64"
      ]
     },
     "execution_count": 4,
     "metadata": {},
     "output_type": "execute_result"
    }
   ],
   "source": [
    "# Filtering to get only classes of interest\n",
    "classes_of_interest = ['BUSCA E APREENSãO EM ALIENAçãO FIDUCIáRIA',\n",
    "                       'CUMPRIMENTO DE SENTENçA',\n",
    "                       'EXECUçãO DE TíTULO EXTRAJUDICIAL',\n",
    "                       'MONITóRIA',\n",
    "                       'PROCEDIMENTO COMUM CíVEL']\n",
    "\n",
    "df = df_raw.loc[df_raw['nome_classe'].isin(classes_of_interest), ['texto', 'nome_classe']].copy()\n",
    "df.groupby('nome_classe').size()"
   ]
  },
  {
   "cell_type": "code",
   "execution_count": 5,
   "metadata": {},
   "outputs": [
    {
     "data": {
      "text/html": [
       "<div>\n",
       "<style scoped>\n",
       "    .dataframe tbody tr th:only-of-type {\n",
       "        vertical-align: middle;\n",
       "    }\n",
       "\n",
       "    .dataframe tbody tr th {\n",
       "        vertical-align: top;\n",
       "    }\n",
       "\n",
       "    .dataframe thead th {\n",
       "        text-align: right;\n",
       "    }\n",
       "</style>\n",
       "<table border=\"1\" class=\"dataframe\">\n",
       "  <thead>\n",
       "    <tr style=\"text-align: right;\">\n",
       "      <th></th>\n",
       "      <th>texto</th>\n",
       "      <th>nome_classe</th>\n",
       "    </tr>\n",
       "  </thead>\n",
       "  <tbody>\n",
       "    <tr>\n",
       "      <th>0</th>\n",
       "      <td>Juízo de Direito da 9ª Vara Cível do Termo de ...</td>\n",
       "      <td>CUMPRIMENTO DE SENTENçA</td>\n",
       "    </tr>\n",
       "    <tr>\n",
       "      <th>2</th>\n",
       "      <td>Juízo de Direito da 9ª Vara Cível deo Termo de...</td>\n",
       "      <td>PROCEDIMENTO COMUM CíVEL</td>\n",
       "    </tr>\n",
       "    <tr>\n",
       "      <th>3</th>\n",
       "      <td>Juízo de Direito da 9ª Vara Cível do Termo de ...</td>\n",
       "      <td>PROCEDIMENTO COMUM CíVEL</td>\n",
       "    </tr>\n",
       "    <tr>\n",
       "      <th>4</th>\n",
       "      <td>Juízo de Direito da 9ª Vara Cível do Termo de ...</td>\n",
       "      <td>PROCEDIMENTO COMUM CíVEL</td>\n",
       "    </tr>\n",
       "    <tr>\n",
       "      <th>6</th>\n",
       "      <td>Juízo de Direito da 9ª Vara Cível do Termo de ...</td>\n",
       "      <td>MONITóRIA</td>\n",
       "    </tr>\n",
       "    <tr>\n",
       "      <th>...</th>\n",
       "      <td>...</td>\n",
       "      <td>...</td>\n",
       "    </tr>\n",
       "    <tr>\n",
       "      <th>894</th>\n",
       "      <td>Juízo de Direito da 9ª Vara Cível do Termo de ...</td>\n",
       "      <td>BUSCA E APREENSãO EM ALIENAçãO FIDUCIáRIA</td>\n",
       "    </tr>\n",
       "    <tr>\n",
       "      <th>897</th>\n",
       "      <td>Juízo de Direito da 9ª Vara Cível deo Termo de...</td>\n",
       "      <td>PROCEDIMENTO COMUM CíVEL</td>\n",
       "    </tr>\n",
       "    <tr>\n",
       "      <th>898</th>\n",
       "      <td>Juízo de Direito da 9ª Vara Cível deo Termo de...</td>\n",
       "      <td>BUSCA E APREENSãO EM ALIENAçãO FIDUCIáRIA</td>\n",
       "    </tr>\n",
       "    <tr>\n",
       "      <th>899</th>\n",
       "      <td>Juízo de Direito da 9ª Vara Cível deo Termo de...</td>\n",
       "      <td>BUSCA E APREENSãO EM ALIENAçãO FIDUCIáRIA</td>\n",
       "    </tr>\n",
       "    <tr>\n",
       "      <th>900</th>\n",
       "      <td>Juízo de Direito da 9ª Vara Cível deo Termo de...</td>\n",
       "      <td>BUSCA E APREENSãO EM ALIENAçãO FIDUCIáRIA</td>\n",
       "    </tr>\n",
       "  </tbody>\n",
       "</table>\n",
       "<p>831 rows × 2 columns</p>\n",
       "</div>"
      ],
      "text/plain": [
       "                                                 texto  \\\n",
       "0    Juízo de Direito da 9ª Vara Cível do Termo de ...   \n",
       "2    Juízo de Direito da 9ª Vara Cível deo Termo de...   \n",
       "3    Juízo de Direito da 9ª Vara Cível do Termo de ...   \n",
       "4    Juízo de Direito da 9ª Vara Cível do Termo de ...   \n",
       "6    Juízo de Direito da 9ª Vara Cível do Termo de ...   \n",
       "..                                                 ...   \n",
       "894  Juízo de Direito da 9ª Vara Cível do Termo de ...   \n",
       "897  Juízo de Direito da 9ª Vara Cível deo Termo de...   \n",
       "898  Juízo de Direito da 9ª Vara Cível deo Termo de...   \n",
       "899  Juízo de Direito da 9ª Vara Cível deo Termo de...   \n",
       "900  Juízo de Direito da 9ª Vara Cível deo Termo de...   \n",
       "\n",
       "                                   nome_classe  \n",
       "0                      CUMPRIMENTO DE SENTENçA  \n",
       "2                     PROCEDIMENTO COMUM CíVEL  \n",
       "3                     PROCEDIMENTO COMUM CíVEL  \n",
       "4                     PROCEDIMENTO COMUM CíVEL  \n",
       "6                                    MONITóRIA  \n",
       "..                                         ...  \n",
       "894  BUSCA E APREENSãO EM ALIENAçãO FIDUCIáRIA  \n",
       "897                   PROCEDIMENTO COMUM CíVEL  \n",
       "898  BUSCA E APREENSãO EM ALIENAçãO FIDUCIáRIA  \n",
       "899  BUSCA E APREENSãO EM ALIENAçãO FIDUCIáRIA  \n",
       "900  BUSCA E APREENSãO EM ALIENAçãO FIDUCIáRIA  \n",
       "\n",
       "[831 rows x 2 columns]"
      ]
     },
     "metadata": {},
     "output_type": "display_data"
    }
   ],
   "source": [
    "display(df)"
   ]
  },
  {
   "cell_type": "markdown",
   "metadata": {},
   "source": [
    "### 3.2. Clean data"
   ]
  },
  {
   "cell_type": "code",
   "execution_count": 6,
   "metadata": {},
   "outputs": [],
   "source": [
    "# Removing header (all text before the word \"despacho\")\n",
    "df['texto'] = df['texto'].apply(lambda x: x.lower().split('despacho')[1])"
   ]
  },
  {
   "cell_type": "markdown",
   "metadata": {},
   "source": [
    "## 4. MODELING"
   ]
  },
  {
   "cell_type": "markdown",
   "metadata": {},
   "source": [
    "### 4.1. Split dataset into train and test"
   ]
  },
  {
   "cell_type": "code",
   "execution_count": 7,
   "metadata": {},
   "outputs": [
    {
     "name": "stdout",
     "output_type": "stream",
     "text": [
      "(747,)\n",
      "(84,)\n"
     ]
    }
   ],
   "source": [
    "X = df['texto']\n",
    "y = df['nome_classe']\n",
    "\n",
    "xtraining, xtesting, ytraining, ytesting = train_test_split(X, y, test_size=0.10, random_state=42, stratify=y)\n",
    "print(xtraining.shape)\n",
    "print(xtesting.shape)"
   ]
  },
  {
   "cell_type": "markdown",
   "metadata": {},
   "source": [
    "### 4.2. Preprocessing with TFIDF"
   ]
  },
  {
   "cell_type": "code",
   "execution_count": 8,
   "metadata": {},
   "outputs": [],
   "source": [
    "# Loading de stop words em portuguese\n",
    "stop_words_portuguese = stopwords.words('portuguese')"
   ]
  },
  {
   "cell_type": "code",
   "execution_count": 9,
   "metadata": {},
   "outputs": [],
   "source": [
    "# Preprocessing with TFIDF\n",
    "tfidf = TfidfVectorizer(max_df=0.90, min_df=30, stop_words=stop_words_portuguese)\n",
    "X_train = tfidf.fit_transform(xtraining)\n",
    "X_test  = tfidf.transform(xtesting)\n",
    "y_train = ytraining\n",
    "y_test  = ytesting"
   ]
  },
  {
   "cell_type": "code",
   "execution_count": 10,
   "metadata": {},
   "outputs": [
    {
     "data": {
      "text/plain": [
       "<747x552 sparse matrix of type '<class 'numpy.float64'>'\n",
       "\twith 62243 stored elements in Compressed Sparse Row format>"
      ]
     },
     "execution_count": 10,
     "metadata": {},
     "output_type": "execute_result"
    }
   ],
   "source": [
    "X_train"
   ]
  },
  {
   "cell_type": "code",
   "execution_count": 11,
   "metadata": {},
   "outputs": [
    {
     "data": {
      "text/plain": [
       "<84x552 sparse matrix of type '<class 'numpy.float64'>'\n",
       "\twith 6981 stored elements in Compressed Sparse Row format>"
      ]
     },
     "execution_count": 11,
     "metadata": {},
     "output_type": "execute_result"
    }
   ],
   "source": [
    "X_test"
   ]
  },
  {
   "cell_type": "code",
   "execution_count": 12,
   "metadata": {},
   "outputs": [
    {
     "data": {
      "text/plain": [
       "PROCEDIMENTO COMUM CíVEL                     41\n",
       "CUMPRIMENTO DE SENTENçA                      20\n",
       "MONITóRIA                                     8\n",
       "BUSCA E APREENSãO EM ALIENAçãO FIDUCIáRIA     8\n",
       "EXECUçãO DE TíTULO EXTRAJUDICIAL              7\n",
       "Name: nome_classe, dtype: int64"
      ]
     },
     "execution_count": 12,
     "metadata": {},
     "output_type": "execute_result"
    }
   ],
   "source": [
    "y_test.value_counts()"
   ]
  },
  {
   "cell_type": "markdown",
   "metadata": {},
   "source": [
    "### 4.3. Build models"
   ]
  },
  {
   "cell_type": "markdown",
   "metadata": {},
   "source": [
    "### 4.3.1. K Nearst Neighbors"
   ]
  },
  {
   "cell_type": "code",
   "execution_count": 13,
   "metadata": {},
   "outputs": [
    {
     "data": {
      "text/plain": [
       "<matplotlib.axes._subplots.AxesSubplot at 0x24630048a90>"
      ]
     },
     "execution_count": 13,
     "metadata": {},
     "output_type": "execute_result"
    },
    {
     "data": {
      "image/png": "[encoded data removed]",
      "text/plain": [
       "<Figure size 1080x360 with 2 Axes>"
      ]
     },
     "metadata": {
      "needs_background": "light"
     },
     "output_type": "display_data"
    }
   ],
   "source": [
    "# Finding best parameters\n",
    "accuracy_rate = []\n",
    "error_rate = []\n",
    "for i in range(1, 21):\n",
    "    knn = KNeighborsClassifier(n_neighbors=i)\n",
    "    knn.fit(X_train, y_train)\n",
    "    y_pred = knn.predict(X_test)\n",
    "    accuracy_rate.append(accuracy_score(y_test, y_pred))\n",
    "    error_rate.append(np.mean(y_pred != y_test))\n",
    "\n",
    "# Plotting accuracy and error by each parameter\n",
    "fig, axes = plt.subplots(1, 2, figsize=(15, 5))\n",
    "sns.lineplot(x=range(1, 21), y=accuracy_rate, color='blue', ax=axes[0])\n",
    "sns.lineplot(x=range(1, 21), y=error_rate, color='orange', ax=axes[1])"
   ]
  },
  {
   "cell_type": "code",
   "execution_count": 14,
   "metadata": {},
   "outputs": [],
   "source": [
    "# Training and Prediction\n",
    "knn = KNeighborsClassifier(n_neighbors=1)\n",
    "knn.fit(X_train, y_train)\n",
    "y_pred = knn.predict(X_test)"
   ]
  },
  {
   "cell_type": "code",
   "execution_count": 15,
   "metadata": {},
   "outputs": [
    {
     "name": "stdout",
     "output_type": "stream",
     "text": [
      "                                           precision    recall  f1-score   support\n",
      "\n",
      "BUSCA E APREENSãO EM ALIENAçãO FIDUCIáRIA       1.00      0.62      0.77         8\n",
      "                  CUMPRIMENTO DE SENTENçA       0.77      0.85      0.81        20\n",
      "         EXECUçãO DE TíTULO EXTRAJUDICIAL       0.67      0.86      0.75         7\n",
      "                                MONITóRIA       0.50      0.75      0.60         8\n",
      "                 PROCEDIMENTO COMUM CíVEL       0.92      0.80      0.86        41\n",
      "\n",
      "                                 accuracy                           0.80        84\n",
      "                                macro avg       0.77      0.78      0.76        84\n",
      "                             weighted avg       0.83      0.80      0.80        84\n",
      "\n"
     ]
    },
    {
     "data": {
      "image/png": "[encoded data removed]",
      "text/plain": [
       "<Figure size 432x288 with 2 Axes>"
      ]
     },
     "metadata": {
      "needs_background": "light"
     },
     "output_type": "display_data"
    }
   ],
   "source": [
    "# Evaluation\n",
    "print(classification_report(y_test, y_pred))\n",
    "cfm = confusion_matrix(y_test, y_pred)\n",
    "sns.heatmap(cfm, annot=True, fmt='.0f').set_title('K_Nearst_Neighbors')\n",
    "knn_accuracy = accuracy_score(y_test, y_pred)\n",
    "knn_precision = precision_score(y_test, y_pred, average=None)\n",
    "knn_recall = recall_score(y_test, y_pred, average=None)"
   ]
  },
  {
   "cell_type": "markdown",
   "metadata": {},
   "source": [
    "### 4.3.2. Decision Tree"
   ]
  },
  {
   "cell_type": "code",
   "execution_count": 16,
   "metadata": {},
   "outputs": [
    {
     "name": "stdout",
     "output_type": "stream",
     "text": [
      "                                           precision    recall  f1-score   support\n",
      "\n",
      "BUSCA E APREENSãO EM ALIENAçãO FIDUCIáRIA       0.83      0.62      0.71         8\n",
      "                  CUMPRIMENTO DE SENTENçA       0.78      0.90      0.84        20\n",
      "         EXECUçãO DE TíTULO EXTRAJUDICIAL       0.78      1.00      0.88         7\n",
      "                                MONITóRIA       0.67      0.50      0.57         8\n",
      "                 PROCEDIMENTO COMUM CíVEL       0.90      0.88      0.89        41\n",
      "\n",
      "                                 accuracy                           0.83        84\n",
      "                                macro avg       0.79      0.78      0.78        84\n",
      "                             weighted avg       0.83      0.83      0.83        84\n",
      "\n"
     ]
    },
    {
     "data": {
      "image/png": "[encoded data removed]",
      "text/plain": [
       "<Figure size 432x288 with 2 Axes>"
      ]
     },
     "metadata": {
      "needs_background": "light"
     },
     "output_type": "display_data"
    }
   ],
   "source": [
    "# Training and Prediction\n",
    "dtree = DecisionTreeClassifier()\n",
    "dtree.fit(X_train,y_train)\n",
    "y_pred = dtree.predict(X_test)\n",
    "\n",
    "# Evaluation\n",
    "print(classification_report(y_test, y_pred))\n",
    "cfm = confusion_matrix(y_test, y_pred)\n",
    "sns.heatmap(cfm, annot=True, fmt='.0f').set_title('Decision_Tree')\n",
    "dt_accuracy = accuracy_score(y_test, y_pred)\n",
    "dt_precision = precision_score(y_test, y_pred, average=None)\n",
    "dt_recall = recall_score(y_test, y_pred, average=None)"
   ]
  },
  {
   "cell_type": "markdown",
   "metadata": {},
   "source": [
    "### 4.3.3. Random Forest"
   ]
  },
  {
   "cell_type": "code",
   "execution_count": 17,
   "metadata": {},
   "outputs": [
    {
     "name": "stdout",
     "output_type": "stream",
     "text": [
      "                                           precision    recall  f1-score   support\n",
      "\n",
      "BUSCA E APREENSãO EM ALIENAçãO FIDUCIáRIA       1.00      0.38      0.55         8\n",
      "                  CUMPRIMENTO DE SENTENçA       0.79      0.95      0.86        20\n",
      "         EXECUçãO DE TíTULO EXTRAJUDICIAL       0.86      0.86      0.86         7\n",
      "                                MONITóRIA       0.60      0.75      0.67         8\n",
      "                 PROCEDIMENTO COMUM CíVEL       0.88      0.85      0.86        41\n",
      "\n",
      "                                 accuracy                           0.82        84\n",
      "                                macro avg       0.82      0.76      0.76        84\n",
      "                             weighted avg       0.84      0.82      0.81        84\n",
      "\n"
     ]
    },
    {
     "data": {
      "image/png": "[encoded data removed]",
      "text/plain": [
       "<Figure size 432x288 with 2 Axes>"
      ]
     },
     "metadata": {
      "needs_background": "light"
     },
     "output_type": "display_data"
    }
   ],
   "source": [
    "# Training and Prediction\n",
    "rf = RandomForestClassifier()\n",
    "rf.fit(X_train, y_train)\n",
    "y_pred = rf.predict(X_test)\n",
    "\n",
    "# Evaluation\n",
    "print(classification_report(y_test, y_pred))\n",
    "cfm = confusion_matrix(y_test, y_pred)\n",
    "sns.heatmap(cfm, annot=True, fmt='.0f').set_title('Random_Forest')\n",
    "rf_accuracy = accuracy_score(y_test, y_pred)\n",
    "rf_precision = precision_score(y_test, y_pred, average=None)\n",
    "rf_recall = recall_score(y_test, y_pred, average=None)"
   ]
  },
  {
   "cell_type": "markdown",
   "metadata": {},
   "source": [
    "### 4.3.4. XGBoost"
   ]
  },
  {
   "cell_type": "code",
   "execution_count": null,
   "metadata": {},
   "outputs": [
    {
     "name": "stderr",
     "output_type": "stream",
     "text": [
      "C:\\Users\\user\\anaconda3\\lib\\site-packages\\xgboost\\sklearn.py:888: UserWarning: The use of label encoder in XGBClassifier is deprecated and will be removed in a future release. To remove this warning, do the following: 1) Pass option use_label_encoder=False when constructing XGBClassifier object; and 2) Encode your labels (y) as integers starting with 0, i.e. 0, 1, 2, ..., [num_class - 1].\n",
      "  warnings.warn(label_encoder_deprecation_msg, UserWarning)\n"
     ]
    },
    {
     "name": "stdout",
     "output_type": "stream",
     "text": [
      "[00:07:24] WARNING: C:/Users/Administrator/workspace/xgboost-win64_release_1.3.0/src/learner.cc:1061: Starting in XGBoost 1.3.0, the default evaluation metric used with the objective 'multi:softprob' was changed from 'merror' to 'mlogloss'. Explicitly set eval_metric if you'd like to restore the old behavior.\n"
     ]
    }
   ],
   "source": [
    "# Training and Prediction\n",
    "xgbmodel = xgb.XGBClassifier(random_state=0)\n",
    "xgbmodel.fit(X_train,y_train)\n",
    "y_pred=xgbmodel.predict(X_test)\n",
    "\n",
    "# Evaluation\n",
    "print(classification_report(y_test,y_pred))\n",
    "cfm = confusion_matrix(y_test, y_pred)\n",
    "sns.heatmap(cfm, annot=True, fmt='.0f').set_title('XGBoost')\n",
    "xgb_accuracy = accuracy_score(y_test, y_pred)\n",
    "xgb_precision = precision_score(y_test, y_pred, average=None)\n",
    "xgb_recall = recall_score(y_test, y_pred, average=None)"
   ]
  },
  {
   "cell_type": "markdown",
   "metadata": {},
   "source": [
    "## 5. EVALUATION"
   ]
  },
  {
   "cell_type": "code",
   "execution_count": null,
   "metadata": {},
   "outputs": [],
   "source": [
    "accuracy_table = pd.DataFrame([knn_accuracy,dt_accuracy,rf_accuracy,xgb_accuracy], \n",
    "                    columns=['Accuracy'], \n",
    "                    index=['KNN', 'Decision_Tree', 'Random_Forest', 'XGBosst'])\n",
    "accuracy_table"
   ]
  },
  {
   "cell_type": "code",
   "execution_count": null,
   "metadata": {},
   "outputs": [],
   "source": [
    "recall_table = pd.DataFrame([knn_recall,dt_recall,rf_recall,xgb_recall],\n",
    "                    columns=['Recall_0', 'Recall_1', 'Recall_2', 'Recall_3', 'Recall_4'], \n",
    "                    index=['KNN', 'Decision_Tree', 'Random_Forest', 'XGBosst'])\n",
    "recall_table"
   ]
  },
  {
   "cell_type": "code",
   "execution_count": null,
   "metadata": {},
   "outputs": [],
   "source": [
    "precision_table = pd.DataFrame([knn_precision,dt_precision,rf_precision,xgb_precision],\n",
    "                    columns=['Precision_0', 'Precision_1', 'Precision_2', 'Precision_3', 'Precision_4'], \n",
    "                    index=['KNN', 'Decision_Tree', 'Random_Forest', 'XGBosst'])\n",
    "precision_table"
   ]
  },
  {
   "cell_type": "code",
   "execution_count": null,
   "metadata": {},
   "outputs": [],
   "source": [
    "comparing_metrics = pd.concat([accuracy_table, recall_table, precision_table], axis=1).apply(lambda x: round(x, 2), axis=1)\n",
    "comparing_metrics.T"
   ]
  },
  {
   "cell_type": "code",
   "execution_count": null,
   "metadata": {
    "scrolled": true
   },
   "outputs": [],
   "source": [
    "a = sns.barplot(x=comparing_metrics.index, y='Accuracy', data=comparing_metrics)\n",
    "a.set_ylim([0.75, 0.85])\n",
    "plt.show()"
   ]
  },
  {
   "cell_type": "markdown",
   "metadata": {},
   "source": []
  }
 ],
 "metadata": {
  "kernelspec": {
   "display_name": "Python 3",
   "language": "python",
   "name": "python3"
  },
  "language_info": {
   "codemirror_mode": {
    "name": "ipython",
    "version": 3
   },
   "file_extension": ".py",
   "mimetype": "text/x-python",
   "name": "python",
   "nbconvert_exporter": "python",
   "pygments_lexer": "ipython3",
   "version": "3.8.3"
  }
 },
 "nbformat": 4,
 "nbformat_minor": 4
}
